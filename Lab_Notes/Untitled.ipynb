{
 "cells": [
  {
   "cell_type": "code",
   "execution_count": null,
   "metadata": {},
   "outputs": [],
   "source": [
    "#Opening IncomeIntel dataset\n",
    "IncomeIntel = pd.read_csv('IncomeIntel.txt', names=['grad_year', 'gre_qnt', 'salary'])\n",
    "IncomeIntel.head()"
   ]
  },
  {
   "cell_type": "code",
   "execution_count": null,
   "metadata": {},
   "outputs": [],
   "source": [
    "#Linear regression on Salary on GRE quantitative scores\n",
    "outcome  = 'salary'\n",
    "features = ['gre_qnt']\n",
    "\n",
    "X, y = IncomeIntel[features], IncomeIntel[outcome]\n",
    "\n",
    "import statsmodels.api as sm\n",
    "\n",
    "X = sm.add_constant(X, prepend=False)\n",
    "X.head()\n",
    "\n",
    "m = sm.OLS(y, X)\n",
    "\n",
    "res = m.fit()\n",
    "print(res.summary())"
   ]
  },
  {
   "cell_type": "code",
   "execution_count": null,
   "metadata": {},
   "outputs": [],
   "source": [
    "#Running a simple scatter plot on the two variables\n",
    "grad_year = IncomeIntel['grad_year']\n",
    "gre_qnt = IncomeIntel['gre_qnt']\n",
    "IncomeIntel.plot(x='grad_year', y='gre_qnt', kind='scatter')\n",
    "plt.show()"
   ]
  },
  {
   "cell_type": "code",
   "execution_count": null,
   "metadata": {},
   "outputs": [],
   "source": [
    "#To obtain the probability of being female,\n",
    "import numpy as np\n",
    "\n",
    "def get_gender_pred(row):\n",
    "    return np.exp(gender_pred(row))/(1+np.exp(gender_pred(row)))\n",
    "\n",
    "\n",
    "#Adding model predictions (gender_pred) in the SurveyIncome data\n",
    "ols_df['gender_pred'] = res_gender.predict(x1)\n",
    "ols_df.head()\n",
    "ols_df.describe()\n",
    "ols_df.hist('gender_pred')\n",
    "\n",
    "total_income2 =\n",
    "weight2 =\n",
    "Best_x1 = ['total_income2', 'weight2']\n",
    "x2 = ? # This needs to be a dataframe with totincome from the BestIncome dataframe and wgt from the BestIncome dataframe\n",
    "BestSurvey['gender_pred'] = res_gender.predict(x2)\n",
    "# Next create a variable based off of gender_pred that =1 if gender_pred >= 0.5, =0 if gender_pred < 0.5\n",
    "BestSurvey['female'] = 0\n",
    "BestSurvey['female'][BestSurvey['gender_pre'] >= 0.5] = 1\n"
   ]
  },
  {
   "cell_type": "code",
   "execution_count": null,
   "metadata": {},
   "outputs": [],
   "source": [
    "#BestIncome['gender_pred'] = 0\n",
    "#BestIncome['gender_pred'][BestIncome['gender_pred'] >= 0.5] = 1"
   ]
  },
  {
   "cell_type": "code",
   "execution_count": null,
   "metadata": {},
   "outputs": [],
   "source": [
    "#BestIncome['constant'] = 1\n",
    "\n",
    "#BestIncome['prob_female'] = res_gender.predict(BestIncome[['total_income1', 'weight1', 'constant']])\n",
    "\n",
    "#BestIncome.loc[BestIncome.prob_female >= 0.5,'female'] = 1\n",
    "#BestIncome.loc[BestIncome.prob_female < 0.5,'female'] = 0\n",
    "\n",
    "#def gender_pred(row):\n",
    "    \n",
    "    #total_income = row[0]\n",
    "    #weight = row[1]\n",
    "    \n",
    "    #gender_pred = 76.7929+(total_income*-0.0002)+(weight*-0.4460)\n",
    "#dot predict method  "
   ]
  }
 ],
 "metadata": {
  "kernelspec": {
   "display_name": "Python 3",
   "language": "python",
   "name": "python3"
  },
  "language_info": {
   "codemirror_mode": {
    "name": "ipython",
    "version": 3
   },
   "file_extension": ".py",
   "mimetype": "text/x-python",
   "name": "python",
   "nbconvert_exporter": "python",
   "pygments_lexer": "ipython3",
   "version": "3.7.0"
  }
 },
 "nbformat": 4,
 "nbformat_minor": 2
}
